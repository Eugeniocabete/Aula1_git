{
  "nbformat": 4,
  "nbformat_minor": 0,
  "metadata": {
    "colab": {
      "provenance": []
    },
    "kernelspec": {
      "name": "python3",
      "display_name": "Python 3"
    },
    "language_info": {
      "name": "python"
    }
  },
  "cells": [
    {
      "cell_type": "code",
      "execution_count": 22,
      "metadata": {
        "colab": {
          "base_uri": "https://localhost:8080/"
        },
        "id": "dXA0q4Kqycxf",
        "outputId": "8ad80beb-e158-4597-f4e9-834d5aee0f17"
      },
      "outputs": [
        {
          "name": "stdout",
          "output_type": "stream",
          "text": [
            "1010\n",
            "2020\n",
            "3030\n"
          ]
        }
      ],
      "source": [
        "#Utilizando \"input\" para receber numero de entrada do usuario\n",
        "Num1 = input(\"10\")\n",
        "num2 = input(\"20\")\n",
        "num3 = input(\"30\")"
      ]
    },
    {
      "cell_type": "code",
      "source": [
        "#converter valores recebidos para numeros inteiros \"int\"\n",
        "num1 = int(10)\n",
        "num2 = int(20)\n",
        "num3 = int(30)"
      ],
      "metadata": {
        "id": "TMDCbCv98uLR"
      },
      "execution_count": 27,
      "outputs": []
    },
    {
      "cell_type": "code",
      "source": [
        "#Utilizar 4 operações matematicas\n",
        "num2 + num1 == num3\n",
        "num1 < num2\n",
        "num1 + num2 == num3\n",
        "num3 > num1"
      ],
      "metadata": {
        "colab": {
          "base_uri": "https://localhost:8080/"
        },
        "id": "q4Fb5fze9NrB",
        "outputId": "58f95188-b649-4afc-d603-6f1b7c76ec98"
      },
      "execution_count": 28,
      "outputs": [
        {
          "output_type": "execute_result",
          "data": {
            "text/plain": [
              "True"
            ]
          },
          "metadata": {},
          "execution_count": 28
        }
      ]
    },
    {
      "cell_type": "code",
      "source": [
        "#criando condicional\n",
        "if num2 > num1:\n",
        "    print(\"Verdadeiro\")\n",
        "else:\n",
        "    print(\"Falso\")\n",
        ""
      ],
      "metadata": {
        "colab": {
          "base_uri": "https://localhost:8080/"
        },
        "id": "EXcOh4eq_N31",
        "outputId": "476f9a74-d032-42a0-cc7e-bd3d31dada58"
      },
      "execution_count": 29,
      "outputs": [
        {
          "output_type": "stream",
          "name": "stdout",
          "text": [
            "Verdadeiro\n"
          ]
        }
      ]
    },
    {
      "cell_type": "code",
      "source": [
        "num1 > num2"
      ],
      "metadata": {
        "colab": {
          "base_uri": "https://localhost:8080/"
        },
        "id": "BsAWY8aY_riy",
        "outputId": "917b7779-e264-4fc9-8371-bd99f0e47c7b"
      },
      "execution_count": 30,
      "outputs": [
        {
          "output_type": "execute_result",
          "data": {
            "text/plain": [
              "False"
            ]
          },
          "metadata": {},
          "execution_count": 30
        }
      ]
    },
    {
      "cell_type": "code",
      "source": [
        "num1 + num2 == num3"
      ],
      "metadata": {
        "colab": {
          "base_uri": "https://localhost:8080/"
        },
        "id": "n_jlLNv8_xcT",
        "outputId": "b8a926f6-5438-4d87-fdd1-115723862e1c"
      },
      "execution_count": 31,
      "outputs": [
        {
          "output_type": "execute_result",
          "data": {
            "text/plain": [
              "True"
            ]
          },
          "metadata": {},
          "execution_count": 31
        }
      ]
    },
    {
      "cell_type": "code",
      "source": [
        "# Usando print para mostrar a operação e o resultado\n",
        "print(f\"{num1} + {num2} = {num3}\")"
      ],
      "metadata": {
        "colab": {
          "base_uri": "https://localhost:8080/"
        },
        "id": "qIszHoFo_3hH",
        "outputId": "9f86a714-97be-41ae-b56a-6fc1a3d6ded0"
      },
      "execution_count": 32,
      "outputs": [
        {
          "output_type": "stream",
          "name": "stdout",
          "text": [
            "10 + 20 = 30\n"
          ]
        }
      ]
    }
  ]
}